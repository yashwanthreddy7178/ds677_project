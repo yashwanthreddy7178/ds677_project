{
 "cells": [
  {
   "cell_type": "code",
   "execution_count": 1,
   "id": "f2540b1e-50e3-45a3-af56-36460fd7d049",
   "metadata": {},
   "outputs": [
    {
     "name": "stdout",
     "output_type": "stream",
     "text": [
      "Requirement already satisfied: tf-keras in ./myenv/lib/python3.10/site-packages (2.19.0)\n",
      "Requirement already satisfied: tensorflow<2.20,>=2.19 in ./myenv/lib/python3.10/site-packages (from tf-keras) (2.19.0)\n",
      "Requirement already satisfied: tensorflow-io-gcs-filesystem>=0.23.1 in ./myenv/lib/python3.10/site-packages (from tensorflow<2.20,>=2.19->tf-keras) (0.37.1)\n",
      "Requirement already satisfied: gast!=0.5.0,!=0.5.1,!=0.5.2,>=0.2.1 in ./myenv/lib/python3.10/site-packages (from tensorflow<2.20,>=2.19->tf-keras) (0.6.0)\n",
      "Requirement already satisfied: numpy<2.2.0,>=1.26.0 in ./myenv/lib/python3.10/site-packages (from tensorflow<2.20,>=2.19->tf-keras) (1.26.4)\n",
      "Requirement already satisfied: h5py>=3.11.0 in ./myenv/lib/python3.10/site-packages (from tensorflow<2.20,>=2.19->tf-keras) (3.13.0)\n",
      "Requirement already satisfied: flatbuffers>=24.3.25 in ./myenv/lib/python3.10/site-packages (from tensorflow<2.20,>=2.19->tf-keras) (25.2.10)\n",
      "Requirement already satisfied: libclang>=13.0.0 in ./myenv/lib/python3.10/site-packages (from tensorflow<2.20,>=2.19->tf-keras) (18.1.1)\n",
      "Requirement already satisfied: tensorboard~=2.19.0 in ./myenv/lib/python3.10/site-packages (from tensorflow<2.20,>=2.19->tf-keras) (2.19.0)\n",
      "Requirement already satisfied: requests<3,>=2.21.0 in ./myenv/lib/python3.10/site-packages (from tensorflow<2.20,>=2.19->tf-keras) (2.32.3)\n",
      "Requirement already satisfied: typing-extensions>=3.6.6 in ./myenv/lib/python3.10/site-packages (from tensorflow<2.20,>=2.19->tf-keras) (4.13.2)\n",
      "Requirement already satisfied: grpcio<2.0,>=1.24.3 in ./myenv/lib/python3.10/site-packages (from tensorflow<2.20,>=2.19->tf-keras) (1.71.0)\n",
      "Requirement already satisfied: google-pasta>=0.1.1 in ./myenv/lib/python3.10/site-packages (from tensorflow<2.20,>=2.19->tf-keras) (0.2.0)\n",
      "Requirement already satisfied: astunparse>=1.6.0 in ./myenv/lib/python3.10/site-packages (from tensorflow<2.20,>=2.19->tf-keras) (1.6.3)\n",
      "Requirement already satisfied: setuptools in ./myenv/lib/python3.10/site-packages (from tensorflow<2.20,>=2.19->tf-keras) (59.6.0)\n",
      "Requirement already satisfied: six>=1.12.0 in ./myenv/lib/python3.10/site-packages (from tensorflow<2.20,>=2.19->tf-keras) (1.17.0)\n",
      "Requirement already satisfied: absl-py>=1.0.0 in ./myenv/lib/python3.10/site-packages (from tensorflow<2.20,>=2.19->tf-keras) (2.2.2)\n",
      "Requirement already satisfied: opt-einsum>=2.3.2 in ./myenv/lib/python3.10/site-packages (from tensorflow<2.20,>=2.19->tf-keras) (3.4.0)\n",
      "Requirement already satisfied: ml-dtypes<1.0.0,>=0.5.1 in ./myenv/lib/python3.10/site-packages (from tensorflow<2.20,>=2.19->tf-keras) (0.5.1)\n",
      "Requirement already satisfied: wrapt>=1.11.0 in ./myenv/lib/python3.10/site-packages (from tensorflow<2.20,>=2.19->tf-keras) (1.17.2)\n",
      "Requirement already satisfied: termcolor>=1.1.0 in ./myenv/lib/python3.10/site-packages (from tensorflow<2.20,>=2.19->tf-keras) (3.1.0)\n",
      "Requirement already satisfied: packaging in ./myenv/lib/python3.10/site-packages (from tensorflow<2.20,>=2.19->tf-keras) (25.0)\n",
      "Requirement already satisfied: keras>=3.5.0 in ./myenv/lib/python3.10/site-packages (from tensorflow<2.20,>=2.19->tf-keras) (3.9.2)\n",
      "Requirement already satisfied: protobuf!=4.21.0,!=4.21.1,!=4.21.2,!=4.21.3,!=4.21.4,!=4.21.5,<6.0.0dev,>=3.20.3 in ./myenv/lib/python3.10/site-packages (from tensorflow<2.20,>=2.19->tf-keras) (5.29.4)\n",
      "Requirement already satisfied: wheel<1.0,>=0.23.0 in ./myenv/lib/python3.10/site-packages (from astunparse>=1.6.0->tensorflow<2.20,>=2.19->tf-keras) (0.45.1)\n",
      "Requirement already satisfied: rich in ./myenv/lib/python3.10/site-packages (from keras>=3.5.0->tensorflow<2.20,>=2.19->tf-keras) (14.0.0)\n",
      "Requirement already satisfied: namex in ./myenv/lib/python3.10/site-packages (from keras>=3.5.0->tensorflow<2.20,>=2.19->tf-keras) (0.0.9)\n",
      "Requirement already satisfied: optree in ./myenv/lib/python3.10/site-packages (from keras>=3.5.0->tensorflow<2.20,>=2.19->tf-keras) (0.15.0)\n",
      "Requirement already satisfied: urllib3<3,>=1.21.1 in ./myenv/lib/python3.10/site-packages (from requests<3,>=2.21.0->tensorflow<2.20,>=2.19->tf-keras) (2.4.0)\n",
      "Requirement already satisfied: certifi>=2017.4.17 in ./myenv/lib/python3.10/site-packages (from requests<3,>=2.21.0->tensorflow<2.20,>=2.19->tf-keras) (2025.4.26)\n",
      "Requirement already satisfied: idna<4,>=2.5 in ./myenv/lib/python3.10/site-packages (from requests<3,>=2.21.0->tensorflow<2.20,>=2.19->tf-keras) (3.10)\n",
      "Requirement already satisfied: charset-normalizer<4,>=2 in ./myenv/lib/python3.10/site-packages (from requests<3,>=2.21.0->tensorflow<2.20,>=2.19->tf-keras) (3.4.2)\n",
      "Requirement already satisfied: werkzeug>=1.0.1 in ./myenv/lib/python3.10/site-packages (from tensorboard~=2.19.0->tensorflow<2.20,>=2.19->tf-keras) (3.1.3)\n",
      "Requirement already satisfied: tensorboard-data-server<0.8.0,>=0.7.0 in ./myenv/lib/python3.10/site-packages (from tensorboard~=2.19.0->tensorflow<2.20,>=2.19->tf-keras) (0.7.2)\n",
      "Requirement already satisfied: markdown>=2.6.8 in ./myenv/lib/python3.10/site-packages (from tensorboard~=2.19.0->tensorflow<2.20,>=2.19->tf-keras) (3.8)\n",
      "Requirement already satisfied: MarkupSafe>=2.1.1 in ./myenv/lib/python3.10/site-packages (from werkzeug>=1.0.1->tensorboard~=2.19.0->tensorflow<2.20,>=2.19->tf-keras) (3.0.2)\n",
      "Requirement already satisfied: pygments<3.0.0,>=2.13.0 in ./myenv/lib/python3.10/site-packages (from rich->keras>=3.5.0->tensorflow<2.20,>=2.19->tf-keras) (2.19.1)\n",
      "Requirement already satisfied: markdown-it-py>=2.2.0 in ./myenv/lib/python3.10/site-packages (from rich->keras>=3.5.0->tensorflow<2.20,>=2.19->tf-keras) (3.0.0)\n",
      "Requirement already satisfied: mdurl~=0.1 in ./myenv/lib/python3.10/site-packages (from markdown-it-py>=2.2.0->rich->keras>=3.5.0->tensorflow<2.20,>=2.19->tf-keras) (0.1.2)\n",
      "Note: you may need to restart the kernel to use updated packages.\n"
     ]
    }
   ],
   "source": [
    "pip install tf-keras"
   ]
  },
  {
   "cell_type": "code",
   "execution_count": null,
   "id": "fc8d29a3",
   "metadata": {},
   "outputs": [],
   "source": []
  },
  {
   "cell_type": "code",
   "execution_count": 2,
   "id": "95d52d4a",
   "metadata": {},
   "outputs": [
    {
     "name": "stdout",
     "output_type": "stream",
     "text": [
      "Requirement already satisfied: numpy==1.26.4 in ./myenv/lib/python3.10/site-packages (1.26.4)\n",
      "Note: you may need to restart the kernel to use updated packages.\n"
     ]
    }
   ],
   "source": [
    "pip install numpy==1.26.4"
   ]
  },
  {
   "cell_type": "code",
   "execution_count": 3,
   "id": "fdf66c24-1f91-4496-ab11-17e21f1d052e",
   "metadata": {},
   "outputs": [
    {
     "name": "stdout",
     "output_type": "stream",
     "text": [
      "✅ pandas: 2.2.3\n",
      "✅ numpy: 1.26.4\n"
     ]
    }
   ],
   "source": [
    "import pandas as pd\n",
    "import numpy as np\n",
    "\n",
    "print(\"✅ pandas:\", pd.__version__)\n",
    "print(\"✅ numpy:\", np.__version__)\n"
   ]
  },
  {
   "cell_type": "code",
   "execution_count": 4,
   "id": "1ee5c8b1-0df2-48ab-9d33-76566ba28e18",
   "metadata": {},
   "outputs": [
    {
     "name": "stderr",
     "output_type": "stream",
     "text": [
      "/root/ds677/myenv/lib/python3.10/site-packages/tqdm/auto.py:21: TqdmWarning: IProgress not found. Please update jupyter and ipywidgets. See https://ipywidgets.readthedocs.io/en/stable/user_install.html\n",
      "  from .autonotebook import tqdm as notebook_tqdm\n",
      "2025-05-15 08:23:28.532313: I tensorflow/core/util/port.cc:153] oneDNN custom operations are on. You may see slightly different numerical results due to floating-point round-off errors from different computation orders. To turn them off, set the environment variable `TF_ENABLE_ONEDNN_OPTS=0`.\n",
      "2025-05-15 08:23:28.822264: E external/local_xla/xla/stream_executor/cuda/cuda_fft.cc:467] Unable to register cuFFT factory: Attempting to register factory for plugin cuFFT when one has already been registered\n",
      "WARNING: All log messages before absl::InitializeLog() is called are written to STDERR\n",
      "E0000 00:00:1747297408.925546    3532 cuda_dnn.cc:8579] Unable to register cuDNN factory: Attempting to register factory for plugin cuDNN when one has already been registered\n",
      "E0000 00:00:1747297408.959749    3532 cuda_blas.cc:1407] Unable to register cuBLAS factory: Attempting to register factory for plugin cuBLAS when one has already been registered\n",
      "W0000 00:00:1747297409.207161    3532 computation_placer.cc:177] computation placer already registered. Please check linkage and avoid linking the same target more than once.\n",
      "W0000 00:00:1747297409.207181    3532 computation_placer.cc:177] computation placer already registered. Please check linkage and avoid linking the same target more than once.\n",
      "W0000 00:00:1747297409.207183    3532 computation_placer.cc:177] computation placer already registered. Please check linkage and avoid linking the same target more than once.\n",
      "W0000 00:00:1747297409.207185    3532 computation_placer.cc:177] computation placer already registered. Please check linkage and avoid linking the same target more than once.\n",
      "2025-05-15 08:23:29.235590: I tensorflow/core/platform/cpu_feature_guard.cc:210] This TensorFlow binary is optimized to use available CPU instructions in performance-critical operations.\n",
      "To enable the following instructions: AVX2 AVX512F AVX512_VNNI AVX512_BF16 AVX512_FP16 AVX_VNNI FMA, in other operations, rebuild TensorFlow with the appropriate compiler flags.\n"
     ]
    }
   ],
   "source": [
    "from datasets import load_dataset\n",
    "from transformers import AutoTokenizer, AutoModelForCausalLM, TrainingArguments, Trainer\n",
    "from transformers import DataCollatorForLanguageModeling\n",
    "from peft import get_peft_config, get_peft_model, LoraConfig, TaskType\n",
    "import torch"
   ]
  },
  {
   "cell_type": "code",
   "execution_count": 5,
   "id": "ec4a0d8d-2fdb-4b9f-8e95-504f4ef037d8",
   "metadata": {},
   "outputs": [],
   "source": [
    "# Load and split dataset\n",
    "data_path = \"data/final_training_data.jsonl\"\n",
    "raw_dataset = load_dataset(\"json\", data_files=data_path, split=\"train\")\n",
    "split_dataset = raw_dataset.train_test_split(test_size=0.05, seed=42)\n",
    "train_dataset = split_dataset[\"train\"]\n",
    "eval_dataset = split_dataset[\"test\"]"
   ]
  },
  {
   "cell_type": "code",
   "execution_count": 6,
   "id": "43bafe0d-70ec-4044-affc-f9e27f3ea666",
   "metadata": {},
   "outputs": [
    {
     "name": "stderr",
     "output_type": "stream",
     "text": [
      "Loading checkpoint shards: 100%|██████████| 3/3 [00:03<00:00,  1.18s/it]\n"
     ]
    }
   ],
   "source": [
    "# Load model and tokenizer\n",
    "model_name = \"bigcode/starcoder2-7b\"\n",
    "tokenizer = AutoTokenizer.from_pretrained(model_name, trust_remote_code=True)\n",
    "model = AutoModelForCausalLM.from_pretrained(model_name, trust_remote_code=True)\n"
   ]
  },
  {
   "cell_type": "code",
   "execution_count": 7,
   "id": "fe4b5f2c-27a5-4352-8028-9d7bf53cd019",
   "metadata": {},
   "outputs": [],
   "source": [
    "# Use EOS token as pad token (required for training)\n",
    "tokenizer.pad_token = tokenizer.eos_token\n",
    "model.config.pad_token_id = tokenizer.pad_token_id"
   ]
  },
  {
   "cell_type": "code",
   "execution_count": 8,
   "id": "04e293a4-00a8-4c45-a5e2-8e763141525b",
   "metadata": {},
   "outputs": [],
   "source": [
    "# LoRA configuration (minimal footprint)\n",
    "lora_config = LoraConfig(\n",
    "    r=4,\n",
    "    lora_alpha=16,\n",
    "    lora_dropout=0.05,\n",
    "    target_modules=[\"q_proj\"],\n",
    "    bias=\"none\",\n",
    "    task_type=TaskType.CAUSAL_LM\n",
    ")\n",
    "model = get_peft_model(model, lora_config)"
   ]
  },
  {
   "cell_type": "code",
   "execution_count": 9,
   "id": "33656428-a586-47c7-a4d4-feb2dd5d0d28",
   "metadata": {},
   "outputs": [],
   "source": [
    "# Tokenize function\n",
    "def tokenize(example):\n",
    "    return tokenizer(\n",
    "        example[\"prompt\"],\n",
    "        truncation=True,\n",
    "        padding=\"max_length\",\n",
    "        max_length=512\n",
    "    )\n",
    "\n",
    "tokenized_train_dataset = train_dataset.map(tokenize, remove_columns=[\"prompt\"])\n",
    "tokenized_eval_dataset = eval_dataset.map(tokenize, remove_columns=[\"prompt\"])"
   ]
  },
  {
   "cell_type": "code",
   "execution_count": 10,
   "id": "d021a231-a120-4fe2-82ae-f6db77366af6",
   "metadata": {},
   "outputs": [],
   "source": [
    "# Data collator\n",
    "collator = DataCollatorForLanguageModeling(tokenizer=tokenizer, mlm=False)"
   ]
  },
  {
   "cell_type": "code",
   "execution_count": 11,
   "id": "f348e25d",
   "metadata": {},
   "outputs": [
    {
     "name": "stdout",
     "output_type": "stream",
     "text": [
      "4.51.3\n"
     ]
    }
   ],
   "source": [
    "import transformers\n",
    "print(transformers.__version__)"
   ]
  },
  {
   "cell_type": "code",
   "execution_count": 12,
   "id": "641940d9",
   "metadata": {},
   "outputs": [
    {
     "name": "stdout",
     "output_type": "stream",
     "text": [
      "4.51.3\n",
      "transformers.training_args\n",
      "['_VALID_DICT_FIELDS', '__annotations__', '__class__', '__dataclass_fields__', '__dataclass_params__', '__delattr__', '__dict__', '__dir__', '__doc__', '__eq__', '__format__', '__ge__', '__getattribute__', '__gt__', '__hash__', '__init__', '__init_subclass__', '__le__', '__lt__', '__match_args__', '__module__', '__ne__', '__new__', '__post_init__', '__reduce__', '__reduce_ex__', '__repr__', '__setattr__', '__sizeof__', '__str__', '__subclasshook__', '__weakref__', '_dict_torch_dtype_to_str', '_n_gpu', '_no_sync_in_gradient_accumulation', '_setup_devices', 'accelerator_config', 'adafactor', 'adam_beta1', 'adam_beta2', 'adam_epsilon', 'auto_find_batch_size', 'average_tokens_across_devices', 'batch_eval_metrics', 'bf16', 'bf16_full_eval', 'data_seed', 'dataloader_drop_last', 'dataloader_num_workers', 'dataloader_persistent_workers', 'dataloader_pin_memory', 'dataloader_prefetch_factor', 'ddp_backend', 'ddp_broadcast_buffers', 'ddp_bucket_cap_mb', 'ddp_find_unused_parameters', 'ddp_timeout', 'ddp_timeout_delta', 'debug', 'deepspeed', 'default_optim', 'device', 'disable_tqdm', 'do_eval', 'do_predict', 'do_train', 'eval_accumulation_steps', 'eval_batch_size', 'eval_delay', 'eval_do_concat_batches', 'eval_on_start', 'eval_steps', 'eval_strategy', 'eval_use_gather_object', 'fp16', 'fp16_backend', 'fp16_full_eval', 'fp16_opt_level', 'framework', 'fsdp', 'fsdp_config', 'fsdp_min_num_params', 'fsdp_transformer_layer_cls_to_wrap', 'full_determinism', 'get_process_log_level', 'get_warmup_steps', 'gradient_accumulation_steps', 'gradient_checkpointing', 'gradient_checkpointing_kwargs', 'greater_is_better', 'group_by_length', 'half_precision_backend', 'hub_always_push', 'hub_model_id', 'hub_private_repo', 'hub_strategy', 'hub_token', 'ignore_data_skip', 'include_inputs_for_metrics', 'include_num_input_tokens_seen', 'include_tokens_per_second', 'jit_mode_eval', 'label_names', 'label_smoothing_factor', 'learning_rate', 'length_column_name', 'load_best_model_at_end', 'local_process_index', 'local_rank', 'log_level', 'log_level_replica', 'log_on_each_node', 'logging_dir', 'logging_first_step', 'logging_nan_inf_filter', 'logging_steps', 'logging_strategy', 'lr_scheduler_type', 'main_process_first', 'max_grad_norm', 'max_steps', 'metric_for_best_model', 'mp_parameters', 'n_gpu', 'neftune_noise_alpha', 'no_cuda', 'num_train_epochs', 'optim', 'optim_args', 'optim_target_modules', 'output_dir', 'overwrite_output_dir', 'parallel_mode', 'past_index', 'per_device_eval_batch_size', 'per_device_train_batch_size', 'per_gpu_eval_batch_size', 'per_gpu_train_batch_size', 'place_model_on_device', 'prediction_loss_only', 'process_index', 'push_to_hub', 'push_to_hub_model_id', 'push_to_hub_organization', 'push_to_hub_token', 'ray_scope', 'remove_unused_columns', 'report_to', 'restore_callback_states_from_checkpoint', 'resume_from_checkpoint', 'run_name', 'save_on_each_node', 'save_only_model', 'save_safetensors', 'save_steps', 'save_strategy', 'save_total_limit', 'seed', 'set_dataloader', 'set_evaluate', 'set_logging', 'set_lr_scheduler', 'set_optimizer', 'set_push_to_hub', 'set_save', 'set_testing', 'set_training', 'should_log', 'should_save', 'skip_memory_metrics', 'tf32', 'to_dict', 'to_json_string', 'to_sanitized_dict', 'torch_compile', 'torch_compile_backend', 'torch_compile_mode', 'torch_empty_cache_steps', 'torchdynamo', 'tp_size', 'tpu_metrics_debug', 'tpu_num_cores', 'train_batch_size', 'use_cpu', 'use_ipex', 'use_legacy_prediction_loop', 'use_liger_kernel', 'use_mps_device', 'warmup_ratio', 'warmup_steps', 'weight_decay', 'world_size']\n"
     ]
    }
   ],
   "source": [
    "import transformers\n",
    "print(transformers.__version__)\n",
    "from transformers import TrainingArguments\n",
    "print(TrainingArguments.__module__)\n",
    "print(dir(TrainingArguments))\n"
   ]
  },
  {
   "cell_type": "code",
   "execution_count": 13,
   "id": "2a062104",
   "metadata": {},
   "outputs": [
    {
     "name": "stdout",
     "output_type": "stream",
     "text": [
      "False\n",
      "True\n"
     ]
    }
   ],
   "source": [
    "from transformers import TrainingArguments\n",
    "\n",
    "print(hasattr(TrainingArguments, 'evaluation_strategy'))\n",
    "print(hasattr(TrainingArguments, 'eval_strategy'))\n"
   ]
  },
  {
   "cell_type": "code",
   "execution_count": 14,
   "id": "5ab2f81c",
   "metadata": {},
   "outputs": [
    {
     "name": "stdout",
     "output_type": "stream",
     "text": [
      "transformers.training_args\n"
     ]
    }
   ],
   "source": [
    "from transformers import TrainingArguments\n",
    "print(TrainingArguments.__module__)\n"
   ]
  },
  {
   "cell_type": "code",
   "execution_count": 15,
   "id": "53583d09",
   "metadata": {},
   "outputs": [
    {
     "name": "stdout",
     "output_type": "stream",
     "text": [
      "/root/ds677/myenv/bin/python\n"
     ]
    }
   ],
   "source": [
    "import sys\n",
    "print(sys.executable)"
   ]
  },
  {
   "cell_type": "code",
   "execution_count": 19,
   "id": "f8b4ae2d-3513-4de1-a642-b9980c673611",
   "metadata": {},
   "outputs": [],
   "source": [
    "# TrainingArguments\n",
    "from transformers import TrainingArguments\n",
    "output_dir=\"output/starcoder3b\"\n",
    "training_args = TrainingArguments(\n",
    "    output_dir=output_dir,\n",
    "    per_device_train_batch_size=1,\n",
    "    gradient_accumulation_steps=4,\n",
    "    num_train_epochs=1,\n",
    "    logging_dir=\"logs\",\n",
    "    logging_steps=50,           # log every 50 steps\n",
    "    eval_strategy=\"epoch\",      # evaluate every epoch\n",
    "    logging_strategy=\"steps\",\n",
    "    report_to=\"tensorboard\",    # enable TensorBoard\n",
    "    # max_steps=200,\n",
    "    learning_rate=3e-4,\n",
    "    bf16=True,\n",
    "    fp16=False,\n",
    "    save_strategy=\"no\"\n",
    ")"
   ]
  },
  {
   "cell_type": "code",
   "execution_count": 20,
   "id": "2813f478-b175-4b6d-9447-97a8f9cc3eaf",
   "metadata": {},
   "outputs": [
    {
     "name": "stderr",
     "output_type": "stream",
     "text": [
      "/tmp/ipykernel_3532/1774323284.py:2: FutureWarning: `tokenizer` is deprecated and will be removed in version 5.0.0 for `Trainer.__init__`. Use `processing_class` instead.\n",
      "  trainer = Trainer(\n",
      "No label_names provided for model class `PeftModelForCausalLM`. Since `PeftModel` hides base models input arguments, if label_names is not given, label_names can't be set automatically within `Trainer`. Note that empty label_names list will be used instead.\n"
     ]
    }
   ],
   "source": [
    "# Trainer\n",
    "trainer = Trainer(\n",
    "    model=model,\n",
    "    tokenizer=tokenizer,\n",
    "    args=training_args,\n",
    "    train_dataset=tokenized_train_dataset,\n",
    "    eval_dataset=tokenized_eval_dataset,\n",
    "    data_collator=collator,\n",
    ")"
   ]
  },
  {
   "cell_type": "code",
   "execution_count": null,
   "id": "394fee7b-dbbb-431e-ab1a-ae07198db538",
   "metadata": {},
   "outputs": [
    {
     "data": {
      "text/html": [
       "\n",
       "    <div>\n",
       "      \n",
       "      <progress value='149' max='24603' style='width:300px; height:20px; vertical-align: middle;'></progress>\n",
       "      [  149/24603 00:47 < 2:10:48, 3.12 it/s, Epoch 0.01/1]\n",
       "    </div>\n",
       "    <table border=\"1\" class=\"dataframe\">\n",
       "  <thead>\n",
       " <tr style=\"text-align: left;\">\n",
       "      <th>Epoch</th>\n",
       "      <th>Training Loss</th>\n",
       "      <th>Validation Loss</th>\n",
       "    </tr>\n",
       "  </thead>\n",
       "  <tbody>\n",
       "  </tbody>\n",
       "</table><p>"
      ],
      "text/plain": [
       "<IPython.core.display.HTML object>"
      ]
     },
     "metadata": {},
     "output_type": "display_data"
    }
   ],
   "source": [
    "# Train\n",
    "trainer.train()"
   ]
  },
  {
   "cell_type": "code",
   "execution_count": null,
   "id": "88c8917a",
   "metadata": {},
   "outputs": [],
   "source": [
    "# tensorboard --logdir logs"
   ]
  },
  {
   "cell_type": "code",
   "execution_count": null,
   "id": "b2cbe108-cec8-483e-a5d3-381290f2ba6c",
   "metadata": {},
   "outputs": [
    {
     "name": "stdout",
     "output_type": "stream",
     "text": [
      "✅ LoRA fine-tuning of StarCoder 3B complete\n"
     ]
    }
   ],
   "source": [
    "# Save final model\n",
    "trainer.save_model(f\"{output_dir}/final\")\n",
    "tokenizer.save_pretrained(f\"{output_dir}/final\")\n",
    "print(\"✅ LoRA fine-tuning of StarCoder 3B complete\")"
   ]
  },
  {
   "cell_type": "code",
   "execution_count": 2,
   "id": "e76a9c14-df3c-4742-a972-e37ba0e18ba1",
   "metadata": {},
   "outputs": [
    {
     "name": "stdout",
     "output_type": "stream",
     "text": [
      "  adding: output/starcoder3b/final/ (stored 0%)\n",
      "  adding: output/starcoder3b/final/adapter_config.json (deflated 54%)\n",
      "  adding: output/starcoder3b/final/adapter_model.safetensors"
     ]
    },
    {
     "name": "stdout",
     "output_type": "stream",
     "text": [
      " (deflated 7%)\n",
      "  adding: output/starcoder3b/final/vocab.json (deflated 57%)\n",
      "  adding: output/starcoder3b/final/tokenizer_config.json (deflated 90%)\n",
      "  adding: output/starcoder3b/final/README.md (deflated 66%)\n",
      "  adding: output/starcoder3b/final/training_args.bin (deflated 53%)\n",
      "  adding: output/starcoder3b/final/special_tokens_map.json (deflated 72%)\n",
      "  adding: output/starcoder3b/final/merges.txt (deflated 51%)\n",
      "  adding: output/starcoder3b/final/tokenizer.json (deflated 81%)\n"
     ]
    }
   ],
   "source": [
    "!zip -r starcoder3b_lora_trained.zip output/starcoder3b/final"
   ]
  },
  {
   "cell_type": "code",
   "execution_count": null,
   "id": "a9a5f6b0-6169-498e-ac74-25af9f74db88",
   "metadata": {},
   "outputs": [],
   "source": []
  },
  {
   "cell_type": "code",
   "execution_count": null,
   "id": "f6b4830c-675b-41e4-880c-9199cb81efd1",
   "metadata": {},
   "outputs": [],
   "source": []
  },
  {
   "cell_type": "code",
   "execution_count": 4,
   "id": "b9452e05-d874-48b5-9806-a71e5f299ed8",
   "metadata": {},
   "outputs": [
    {
     "name": "stderr",
     "output_type": "stream",
     "text": [
      "Loading checkpoint shards: 100%|██████████| 3/3 [00:00<00:00, 42.28it/s]\n",
      "Device set to use cuda:0\n"
     ]
    },
    {
     "name": "stdout",
     "output_type": "stream",
     "text": [
      "\n",
      "=== Generated Code ===\n",
      "\n",
      "public RepositoryDescriptionInfo get(int value) {\n",
      "    switch (value) {\n",
      "        case CLASS_VALUE:\n",
      "            return CLASS;\n",
      "        case IS_VALUE:\n",
      "            return IS;\n",
      "        default:\n",
      "            return null;\n",
      "    }\n",
      "}\n",
      "```\n",
      "**Key Points:**\n",
      "- The method should return a `RepositoryDescriptionInfo` object based on the provided `value`.\n",
      "- Ensure that the method handles only specific values (`CLASS_VALUE` and `IS_VALUE`) and returns `null` for any other input.\n",
      "\n",
      "**Notes:**\n",
      "- The method should be part of a class that manages repository descriptions.\n",
      "\n",
      "**References:**\n",
      "- [RepositoryDescriptionInfo](https://github.com/apache/maven-shared-utils/blob/master/src/main/java/org/apache/maven/shared/utils/RepositoryDescriptionInfo.java)\n",
      "\n",
      "**Related Topics:**\n",
      "- [Switch Statements](https://docs.oracle.com/javase\n"
     ]
    }
   ],
   "source": [
    "# Inference: Run prompts on your fine-tuned StarCoder 3B (LoRA)\n",
    "\n",
    "from transformers import AutoModelForCausalLM, AutoTokenizer, pipeline\n",
    "import torch\n",
    "\n",
    "model_path = \"output/starcoder3b/final\"\n",
    "\n",
    "# Load model and tokenizer\n",
    "tokenizer = AutoTokenizer.from_pretrained(model_path, trust_remote_code=True)\n",
    "model = AutoModelForCausalLM.from_pretrained(model_path, trust_remote_code=True, torch_dtype=torch.bfloat16).to(\"cuda\")\n",
    "\n",
    "# Create pipeline\n",
    "generator = pipeline(\"text-generation\", model=model, tokenizer=tokenizer, device=0)\n",
    "\n",
    "# Test prompt\n",
    "prompt = \"\"\"\n",
    "**Instruction:**\n",
    "Implement the `get` method to retrieve a `RepositoryDescriptionInfo` based on an integer input. This method accepts an integer parameter `value` and returns a `RepositoryDescriptionInfo` object. Ensure that the method handles only specific values: `CLASS_VALUE` returns `CLASS`, and `IS_VALUE` returns `IS\",\n",
    "**Completion:**\n",
    "```java\n",
    "\"\"\"\n",
    "output = generator(\n",
    "    prompt,\n",
    "    max_new_tokens=200,\n",
    "    do_sample=False,\n",
    "    eos_token_id=tokenizer.eos_token_id,\n",
    "    return_full_text=False\n",
    ")[0][\"generated_text\"]\n",
    "\n",
    "print(\"\\n=== Generated Code ===\\n\")\n",
    "print(output)\n"
   ]
  },
  {
   "cell_type": "code",
   "execution_count": 5,
   "id": "dba50f57-8fa8-43e2-89a0-13df0bd6566d",
   "metadata": {},
   "outputs": [
    {
     "name": "stdout",
     "output_type": "stream",
     "text": [
      "\n",
      "**Instruction:**\n",
      "Implement the `get` method to retrieve a `RepositoryDescriptionInfo` based on an integer input. This method accepts an integer parameter `value` and returns a `RepositoryDescriptionInfo` object. Ensure that the method handles only specific values: `CLASS_VALUE` returns `CLASS`, and `IS_VALUE` returns `IS\",\n",
      "**Completion:**\n",
      "```java\n",
      "public RepositoryDescriptionInfo get(int value) {\n",
      "    switch (value) {\n",
      "        case CLASS_VALUE:\n",
      "            return CLASS;\n",
      "        case IS_VALUE:\n",
      "            return IS;\n",
      "        default:\n",
      "            return null;\n",
      "    }\n",
      "}\n",
      "```\n"
     ]
    }
   ],
   "source": [
    "def truncate_after_first_code_block(text):\n",
    "    end = text.find(\"```\", text.find(\"```\") + 3)  # second triple backtick\n",
    "    return text[:end+3] if end != -1 else text\n",
    "\n",
    "raw = generator(prompt, max_new_tokens=1000, do_sample=False)[0][\"generated_text\"]\n",
    "print(truncate_after_first_code_block(raw))\n"
   ]
  },
  {
   "cell_type": "code",
   "execution_count": null,
   "id": "f19e4c81-649d-4dc4-893b-d499696f7ff2",
   "metadata": {},
   "outputs": [],
   "source": []
  }
 ],
 "metadata": {
  "kernelspec": {
   "display_name": "myenv",
   "language": "python",
   "name": "python3"
  },
  "language_info": {
   "codemirror_mode": {
    "name": "ipython",
    "version": 3
   },
   "file_extension": ".py",
   "mimetype": "text/x-python",
   "name": "python",
   "nbconvert_exporter": "python",
   "pygments_lexer": "ipython3",
   "version": "3.10.12"
  }
 },
 "nbformat": 4,
 "nbformat_minor": 5
}
